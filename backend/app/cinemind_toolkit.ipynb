{
 "cells": [
  {
   "cell_type": "markdown",
   "id": "876183a6",
   "metadata": {},
   "source": [
    "## CineMind Toolkit\n",
    "A streamlined Jupyter Notebook designed to interact with and manage the CineMind database. Includes setup code and modular utility functions for querying, updating, and testing API/database features with ease.\n",
    "\n",
    "\n",
    "---"
   ]
  },
  {
   "cell_type": "markdown",
   "id": "13bfe1e9",
   "metadata": {},
   "source": [
    "### Installing Required Libraries"
   ]
  },
  {
   "cell_type": "code",
   "execution_count": null,
   "id": "733dcc29",
   "metadata": {},
   "outputs": [],
   "source": [
    "# pandas for building and processing DataFrames\n",
    "%pip install pandas\n",
    "\n",
    "# sqlalchemy: database toolkit for Python (ORM)\n",
    "%pip install sqlalchemy\n",
    "\n",
    "# pandasql: sql-type queries on pandas DataFrames\n",
    "%pip install pandasql\n",
    "\n",
    "# python-dotenv: for loading environment variables from a .env file\n",
    "%pip install python-dotenv"
   ]
  },
  {
   "cell_type": "markdown",
   "id": "88d99368",
   "metadata": {},
   "source": [
    "### Setup and Database Connection\n",
    "Sets up access to the TMDB API and connects to the local cinemind.db SQLite database for movie data operations."
   ]
  },
  {
   "cell_type": "code",
   "execution_count": 1,
   "id": "8048d60f",
   "metadata": {},
   "outputs": [],
   "source": [
    "import requests\n",
    "import sqlite3\n",
    "import os\n",
    "from dotenv import load_dotenv\n",
    "\n",
    "# Load environment variables\n",
    "load_dotenv()\n",
    "TMDB_API_KEY = os.getenv(\"TMDB_API_KEY\")\n",
    "BASE_API_URL = \"https://api.themoviedb.org/3/\"\n",
    "IMAGE_BASE_URL = \"https://image.tmdb.org/t/p/original\" \n",
    "\n",
    "# Connect to SQLite database\n",
    "db_path = \"../models/cinemind.db\"  # Update with your database path\n",
    "conn = sqlite3.connect(db_path)"
   ]
  },
  {
   "cell_type": "markdown",
   "id": "04ec4cd5",
   "metadata": {},
   "source": [
    "### View Table Schema\n",
    "Connects to the database and prints the schema of the specified table."
   ]
  },
  {
   "cell_type": "code",
   "execution_count": null,
   "id": "5074a76e",
   "metadata": {},
   "outputs": [],
   "source": [
    "# Connect to SQLite database\n",
    "conn = sqlite3.connect('../models/cinemind.db')  # Update path if needed\n",
    "cursor = conn.cursor()\n",
    "\n",
    "\n",
    "table = 'Movies' # Insert name of the table you want to view here\n",
    "\n",
    "\n",
    "schema = conn.execute(f\"PRAGMA table_info({table})\")\n",
    "\n",
    "print('\\n-------BEGIN TABLE SCHEMA------')\n",
    "for i in schema:\n",
    "    print(i)\n",
    "print('-------END TABLE SCHEMA--------\\n')\n",
    "\n",
    "conn.close()"
   ]
  }
 ],
 "metadata": {
  "kernelspec": {
   "display_name": "Python 3",
   "language": "python",
   "name": "python3"
  },
  "language_info": {
   "codemirror_mode": {
    "name": "ipython",
    "version": 3
   },
   "file_extension": ".py",
   "mimetype": "text/x-python",
   "name": "python",
   "nbconvert_exporter": "python",
   "pygments_lexer": "ipython3",
   "version": "3.13.2"
  }
 },
 "nbformat": 4,
 "nbformat_minor": 5
}
