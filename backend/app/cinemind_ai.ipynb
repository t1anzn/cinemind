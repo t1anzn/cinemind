{
 "cells": [
  {
   "cell_type": "markdown",
   "id": "ce3aab31",
   "metadata": {},
   "source": [
    "## Install the required libraries"
   ]
  },
  {
   "cell_type": "code",
   "execution_count": 1,
   "id": "57a5e724",
   "metadata": {},
   "outputs": [
    {
     "name": "stdout",
     "output_type": "stream",
     "text": [
      "Requirement already satisfied: google-genai in c:\\users\\timot\\appdata\\local\\programs\\python\\python313\\lib\\site-packages (1.10.0)\n",
      "Requirement already satisfied: anyio<5.0.0,>=4.8.0 in c:\\users\\timot\\appdata\\local\\programs\\python\\python313\\lib\\site-packages (from google-genai) (4.9.0)\n",
      "Requirement already satisfied: google-auth<3.0.0,>=2.14.1 in c:\\users\\timot\\appdata\\local\\programs\\python\\python313\\lib\\site-packages (from google-genai) (2.38.0)\n",
      "Requirement already satisfied: httpx<1.0.0,>=0.28.1 in c:\\users\\timot\\appdata\\local\\programs\\python\\python313\\lib\\site-packages (from google-genai) (0.28.1)\n",
      "Requirement already satisfied: pydantic<3.0.0,>=2.0.0 in c:\\users\\timot\\appdata\\local\\programs\\python\\python313\\lib\\site-packages (from google-genai) (2.10.6)\n",
      "Requirement already satisfied: requests<3.0.0,>=2.28.1 in c:\\users\\timot\\appdata\\local\\programs\\python\\python313\\lib\\site-packages (from google-genai) (2.32.3)\n",
      "Requirement already satisfied: websockets<15.1.0,>=13.0.0 in c:\\users\\timot\\appdata\\local\\programs\\python\\python313\\lib\\site-packages (from google-genai) (15.0.1)\n",
      "Requirement already satisfied: typing-extensions<5.0.0,>=4.11.0 in c:\\users\\timot\\appdata\\local\\programs\\python\\python313\\lib\\site-packages (from google-genai) (4.12.2)\n",
      "Requirement already satisfied: idna>=2.8 in c:\\users\\timot\\appdata\\local\\programs\\python\\python313\\lib\\site-packages (from anyio<5.0.0,>=4.8.0->google-genai) (3.10)\n",
      "Requirement already satisfied: sniffio>=1.1 in c:\\users\\timot\\appdata\\local\\programs\\python\\python313\\lib\\site-packages (from anyio<5.0.0,>=4.8.0->google-genai) (1.3.1)\n",
      "Requirement already satisfied: cachetools<6.0,>=2.0.0 in c:\\users\\timot\\appdata\\local\\programs\\python\\python313\\lib\\site-packages (from google-auth<3.0.0,>=2.14.1->google-genai) (5.5.2)\n",
      "Requirement already satisfied: pyasn1-modules>=0.2.1 in c:\\users\\timot\\appdata\\local\\programs\\python\\python313\\lib\\site-packages (from google-auth<3.0.0,>=2.14.1->google-genai) (0.4.2)\n",
      "Requirement already satisfied: rsa<5,>=3.1.4 in c:\\users\\timot\\appdata\\local\\programs\\python\\python313\\lib\\site-packages (from google-auth<3.0.0,>=2.14.1->google-genai) (4.9)\n",
      "Requirement already satisfied: certifi in c:\\users\\timot\\appdata\\local\\programs\\python\\python313\\lib\\site-packages (from httpx<1.0.0,>=0.28.1->google-genai) (2025.1.31)\n",
      "Requirement already satisfied: httpcore==1.* in c:\\users\\timot\\appdata\\local\\programs\\python\\python313\\lib\\site-packages (from httpx<1.0.0,>=0.28.1->google-genai) (1.0.7)\n",
      "Requirement already satisfied: h11<0.15,>=0.13 in c:\\users\\timot\\appdata\\local\\programs\\python\\python313\\lib\\site-packages (from httpcore==1.*->httpx<1.0.0,>=0.28.1->google-genai) (0.14.0)\n",
      "Requirement already satisfied: annotated-types>=0.6.0 in c:\\users\\timot\\appdata\\local\\programs\\python\\python313\\lib\\site-packages (from pydantic<3.0.0,>=2.0.0->google-genai) (0.7.0)\n",
      "Requirement already satisfied: pydantic-core==2.27.2 in c:\\users\\timot\\appdata\\local\\programs\\python\\python313\\lib\\site-packages (from pydantic<3.0.0,>=2.0.0->google-genai) (2.27.2)\n",
      "Requirement already satisfied: charset-normalizer<4,>=2 in c:\\users\\timot\\appdata\\local\\programs\\python\\python313\\lib\\site-packages (from requests<3.0.0,>=2.28.1->google-genai) (3.4.1)\n",
      "Requirement already satisfied: urllib3<3,>=1.21.1 in c:\\users\\timot\\appdata\\local\\programs\\python\\python313\\lib\\site-packages (from requests<3.0.0,>=2.28.1->google-genai) (2.3.0)\n",
      "Requirement already satisfied: pyasn1<0.7.0,>=0.6.1 in c:\\users\\timot\\appdata\\local\\programs\\python\\python313\\lib\\site-packages (from pyasn1-modules>=0.2.1->google-auth<3.0.0,>=2.14.1->google-genai) (0.6.1)\n",
      "Note: you may need to restart the kernel to use updated packages.\n",
      "Requirement already satisfied: python-dotenv in c:\\users\\timot\\appdata\\local\\programs\\python\\python313\\lib\\site-packages (1.1.0)\n",
      "Note: you may need to restart the kernel to use updated packages.\n"
     ]
    }
   ],
   "source": [
    "\n",
    "%pip install google-genai\n",
    "\n",
    "%pip install python-dotenv"
   ]
  },
  {
   "cell_type": "markdown",
   "id": "755f6931",
   "metadata": {},
   "source": [
    "## Load API Keys + environment variables from .env file"
   ]
  },
  {
   "cell_type": "code",
   "execution_count": 1,
   "id": "4b6d0a9f",
   "metadata": {},
   "outputs": [
    {
     "name": "stdout",
     "output_type": "stream",
     "text": [
      "Loading .env from: c:\\UAL\\Data-Driven Full Stack\\CineMind\\cinemind\\backend\\app\\..\\..\\..\\.env\n",
      "✓ API key loaded successfully\n"
     ]
    }
   ],
   "source": [
    "import os\n",
    "from dotenv import load_dotenv\n",
    "from pathlib import Path\n",
    "\n",
    "def load_environment():\n",
    "    \"\"\"Load environment variables from multiple possible locations\"\"\"\n",
    "    possible_paths = [\n",
    "        Path('.env'),  # Current directory\n",
    "        Path('../.env'),  # One level up\n",
    "        Path('../../frontend/.env'),  # Frontend directory\n",
    "        Path('../../../.env'),  # Project root\n",
    "        Path('../../.env'),  # Project root alternative\n",
    "    ]\n",
    "    \n",
    "    for path in possible_paths:\n",
    "        if path.exists():\n",
    "            print(f\"Loading .env from: {path.absolute()}\")\n",
    "            load_dotenv(path)\n",
    "            api_key = os.getenv(\"GEMINI_API_KEY\")\n",
    "            if api_key:\n",
    "                print(\"✓ API key loaded successfully\")\n",
    "                return True\n",
    "            \n",
    "    print(\"⚠ No valid .env file found with API key!\")\n",
    "    print(\"\\nTry creating .env file in one of these locations:\")\n",
    "    for path in possible_paths:\n",
    "        print(f\"- {path.absolute()}\")\n",
    "    return False\n",
    "\n",
    "# Load environment variables\n",
    "if not load_environment():\n",
    "    raise EnvironmentError(\"Failed to load GEMINI_API_KEY from .env file\")\n",
    "\n",
    "# Now use the API key\n",
    "GEMINI_API_KEY = os.getenv(\"GEMINI_API_KEY\")"
   ]
  },
  {
   "cell_type": "markdown",
   "id": "05120875",
   "metadata": {},
   "source": [
    "## Test Gemini Model"
   ]
  },
  {
   "cell_type": "code",
   "execution_count": 5,
   "id": "cf7ce799",
   "metadata": {},
   "outputs": [
    {
     "name": "stdout",
     "output_type": "stream",
     "text": [
      "Generated Content:\n",
      "AI, or Artificial Intelligence, is a broad field encompassing the creation of intelligent agents – systems that can reason, learn, and act autonomously.  It's not a single thing, but rather a collection of techniques and approaches.  Here's a breakdown of how AI generally works, covering key concepts and processes:\n",
      "\n",
      "**1. Core Principles:**\n",
      "\n",
      "*   **Mimicking Human Intelligence:**  The fundamental goal of AI is to create systems that can perform tasks that typically require human intelligence, such as:\n",
      "    *   **Learning:**  Acquiring knowledge and skills from data.\n",
      "    *   **Reasoning:**  Using logic and inference to draw conclusions.\n",
      "    *   **Problem-solving:**  Finding solutions to complex issues.\n",
      "    *   **Perception:**  Interpreting sensory input (sight, sound, etc.).\n",
      "    *   **Natural Language Understanding (NLU):**  Comprehending and processing human language.\n",
      "    *   **Planning:**  Developing strategies to achieve goals.\n",
      "    *   **Decision-making:** Choosing the best course of action based on available information.\n",
      "*   **Data-Driven:**  AI models rely heavily on data. They learn from large datasets, identifying patterns, relationships, and insights that allow them to make predictions or take actions.  The quality and quantity of data significantly impact the performance of AI models.\n",
      "*   **Algorithms:**  AI systems use algorithms – step-by-step instructions or mathematical formulas – to process data, learn from it, and make decisions.\n",
      "*   **Iteration and Improvement:**  AI models are typically not \"finished\" products. They are constantly refined through iterative processes, where they are trained, tested, and improved using feedback and new data.\n",
      "\n",
      "**2. Key Branches of AI:**\n",
      "\n",
      "*   **Machine Learning (ML):**  A subset of AI that allows systems to learn from data without being explicitly programmed.  ML algorithms automatically improve their performance as they are exposed to more data.  This is the most widely used type of AI today.\n",
      "    *   **Supervised Learning:**  The algorithm learns from labeled data, where the correct output for each input is known.  (e.g., training a model to recognize images of cats based on a dataset where each image is labeled \"cat\" or \"not cat\").\n",
      "        *   **Classification:**  Categorizing data into predefined classes (e.g., spam vs. not spam).\n",
      "        *   **Regression:** Predicting a continuous value (e.g., predicting house prices).\n",
      "    *   **Unsupervised Learning:** The algorithm learns from unlabeled data, identifying patterns, structures, and relationships. (e.g., clustering customers into different segments based on their purchasing behavior).\n",
      "        *   **Clustering:** Grouping similar data points together.\n",
      "        *   **Dimensionality Reduction:** Reducing the number of variables while preserving the most important information.\n",
      "    *   **Reinforcement Learning (RL):**  The algorithm learns by interacting with an environment and receiving rewards or penalties.  It learns to make decisions to maximize its reward (e.g., training a robot to navigate a maze).\n",
      "*   **Deep Learning (DL):** A subset of ML that uses artificial neural networks with multiple layers (deep neural networks) to analyze data. DL excels at complex tasks like image and speech recognition.\n",
      "    *   **Artificial Neural Networks (ANNs):** Inspired by the structure of the human brain, ANNs are composed of interconnected nodes (neurons) organized in layers. Data flows through these layers, undergoing transformations until a desired output is produced.\n",
      "    *   **Convolutional Neural Networks (CNNs):**  Specifically designed for image and video processing.\n",
      "    *   **Recurrent Neural Networks (RNNs):**  Designed for processing sequential data, such as text and time series data.\n",
      "*   **Natural Language Processing (NLP):**  Focuses on enabling computers to understand, interpret, and generate human language.\n",
      "    *   **NLU (Natural Language Understanding):** The process by which a computer system extracts meaning from human language.\n",
      "    *   **NLG (Natural Language Generation):** The process by which a computer system produces human-like text.\n",
      "    *   **Examples:**  Chatbots, machine translation, sentiment analysis.\n",
      "*   **Computer Vision:**  Enables computers to \"see\" and interpret images and videos. It involves tasks like image recognition, object detection, and image analysis.\n",
      "*   **Robotics:**  The design, construction, operation, and application of robots. AI is often used to enable robots to perceive their environment, make decisions, and interact with the world.\n",
      "*   **Expert Systems:**  AI systems designed to emulate the decision-making abilities of a human expert in a specific domain.\n",
      "\n",
      "**3. The AI Process (Simplified):**\n",
      "\n",
      "1.  **Data Collection and Preparation:**  Gathering relevant data from various sources (databases, sensors, etc.) and cleaning, transforming, and structuring it to be suitable for the AI model. This is often the most time-consuming and critical part.\n",
      "2.  **Model Selection:** Choosing the appropriate AI algorithm or model based on the type of task and the available data.  (e.g., choosing a CNN for image recognition, an RNN for text processing).\n",
      "3.  **Model Training:** Feeding the data into the selected model and allowing it to learn. The model adjusts its parameters (weights, biases) based on the data to optimize its performance. This often involves iterative processes, such as backpropagation in neural networks.\n",
      "4.  **Model Evaluation:** Testing the trained model using a separate dataset (the \"test set\") to assess its accuracy, precision, recall, and other relevant metrics. This helps determine how well the model generalizes to unseen data.\n",
      "5.  **Model Deployment:**  Integrating the trained model into a real-world system, where it can be used to make predictions or take actions.\n",
      "6.  **Monitoring and Maintenance:** Continuously monitoring the model's performance in the real world and retraining or adjusting it as needed to maintain its accuracy and relevance over time.  This is important due to data drift (changes in the data over time).\n",
      "\n",
      "**4. Key Components within Models (Especially Machine Learning):**\n",
      "\n",
      "*   **Features:** The input variables or characteristics that are used to make a prediction or decision.\n",
      "*   **Weights:** Numerical values assigned to features that determine their importance in the model.\n",
      "*   **Bias:** A constant value added to the output of the model, acting as a starting point.\n",
      "*   **Loss Function:** A function that measures the difference between the model's predictions and the actual values. The goal of training is to minimize the loss function.\n",
      "*   **Optimizer:** An algorithm that adjusts the weights and biases of the model to minimize the loss function. (e.g., gradient descent).\n",
      "\n",
      "**5. Types of AI based on Capabilities:**\n",
      "\n",
      "*   **Narrow/Weak AI (ANI):** Designed to perform a specific task, and it excels at that task.  Most AI applications today fall into this category (e.g., spam filters, recommendation engines).  It does *not* possess general intelligence.\n",
      "*   **General/Strong AI (AGI):**  Hypothetical AI that can perform any intellectual task that a human being can.  It would possess general intelligence, understanding, and the ability to learn and adapt across a wide range of domains. This is currently a theoretical concept.\n",
      "*   **Super AI (ASI):**  Hypothetical AI that surpasses human intelligence in every way, including creativity, general wisdom, and problem-solving abilities.  This is also currently theoretical and raises significant ethical and societal considerations.\n",
      "\n",
      "**In summary, AI is a vast and evolving field that uses data, algorithms, and various techniques to create intelligent systems. It's a process of learning, adapting, and improving over time, with machine learning and deep learning being the dominant approaches currently. The specific implementation of AI depends on the task it is designed to perform, the data available, and the chosen algorithms.**\n",
      "\n"
     ]
    }
   ],
   "source": [
    "from google import genai\n",
    "\n",
    "# Initialize the client with your API key\n",
    "client = genai.Client(api_key = GEMINI_API_KEY)\n",
    "\n",
    "# Generate content using the Gemini model\n",
    "try:\n",
    "    response = client.models.generate_content(\n",
    "        model=\"gemini-2.0-flash-lite\",  # Replace with the specific model name\n",
    "        contents=\"Explain how AI works\",\n",
    "    )\n",
    "    print(\"Generated Content:\")\n",
    "    print(response.text)\n",
    "except Exception as e:\n",
    "    print(f\"Error: {e}\")"
   ]
  },
  {
   "cell_type": "code",
   "execution_count": 13,
   "id": "dcff5797",
   "metadata": {},
   "outputs": [
    {
     "name": "stdout",
     "output_type": "stream",
     "text": [
      "Movie: Star Wars\n",
      "Overall Sentiment: **Overall Sentiment: Positive**\n",
      "\n",
      "**Summary of Reviews:**\n",
      "\n",
      "These reviews express overwhelmingly positive sentiments about the movie \"Star Wars\" (Episode IV: A New Hope). Reviewers highlight the film's groundbreaking impact, engaging characters (Luke, Leia, Han, Vader, etc.), impressive special effects for its time, memorable score by John Williams, and its ability to evoke a sense of wonder and nostalgia. Many reviewers saw the film as children and state how the movie continues to be a cherished experience to revisit and share. Several reviewers also acknowledge the film's role in shaping popular culture, becoming a cultural phenomenon, and starting a lasting legacy. While some reviewers point out minor flaws or acknowledge that the plot may not be completely original, the consensus is that the film is a classic, a masterpiece, and a must-see for anyone interested in cinema.\n",
      "\n",
      "---\n",
      "\n",
      "Movie: Finding Nemo\n",
      "Overall Sentiment: **Overall Sentiment and Summary:**\n",
      "\n",
      "The movie reviews generally express a positive sentiment. Reviewers praise the film's animation, characters, story, and humor. Several reviewers highlight the film's stunning visuals, memorable characters, and heartwarming plot. The movie is described as adventurous, amusing, cute, and charming. However, one reviewer found a character annoying, while another pointed out the movie also tackles darker themes. Overall, the consensus leans towards a highly enjoyable and recommended viewing experience.\n",
      "\n",
      "---\n",
      "\n"
     ]
    }
   ],
   "source": [
    "from google import genai\n",
    "from sqlalchemy import create_engine\n",
    "from sqlalchemy.orm import sessionmaker\n",
    "from app import Movie\n",
    "\n",
    "# Initialize the Google GenAI client\n",
    "client = genai.Client(api_key=GEMINI_API_KEY)\n",
    "\n",
    "# Connect to the database\n",
    "db_path = os.path.abspath(os.path.join(os.getcwd(), '../models/cinemind.db'))\n",
    "if not os.path.exists(db_path):\n",
    "    raise FileNotFoundError(f\"Database file not found at: {db_path}\")\n",
    "\n",
    "engine = create_engine(f'sqlite:///{db_path}')\n",
    "Session = sessionmaker(bind=engine)\n",
    "session = Session()\n",
    "\n",
    "# Fetch movies with reviews from the database\n",
    "movies = session.query(Movie).filter(Movie.reviews.isnot(None)).limit(2).all()\n",
    "\n",
    "# Analyze overall sentiment for all reviews of each movie\n",
    "for movie in movies:\n",
    "    try:\n",
    "        review_texts = movie.reviews  # Access the reviews field directly\n",
    "        response = client.models.generate_content(\n",
    "            model=\"gemini-2.0-flash-lite\",  # Replace with the specific model name\n",
    "            contents=\"Analyze the sentiment of the following movie reviews and classify it as Positive, Neutral, or Negative. \"\n",
    "                \"Provide a plain-text summary of the reviews without any titles, names of people, headings, or asterixes and special formatting. \"\n",
    "                \"Focus on the overall sentiment and key points expressed in the reviews as a whole and provide and overall summary:\\n\\n\"\n",
    "                f\"{movie.reviews}\",\n",
    "        )\n",
    "        print(f\"Movie: {movie.title}\")\n",
    "        # print(f\"Overall Reviews: {review_texts}\")\n",
    "        print(f\"Overall Sentiment: {response.text.strip()}\")\n",
    "        print(\"\\n---\\n\")\n",
    "    except Exception as e:\n",
    "        print(f\"Error analyzing overall sentiment for movie '{movie.title}': {e}\")"
   ]
  },
  {
   "cell_type": "markdown",
   "id": "e50c61c8",
   "metadata": {},
   "source": [
    "## Analyze Sentiment of Movie Reviews"
   ]
  },
  {
   "cell_type": "code",
   "execution_count": null,
   "id": "f81a1a30",
   "metadata": {},
   "outputs": [],
   "source": [
    "movie_id = 12  # Replace with the desired movie ID\n",
    "response = client.models.generate_content(\n",
    "    model=\"gemini-2.0-flash-lite\",\n",
    "    contents=f\"Analyze the overall sentiment of these reviews: '{movies[1].reviews}' and classify it as Positive, Neutral, or Negative. Provide a summary.\"\n",
    ")\n",
    "print(f\"Sentiment Analysis for Movie ID {movie_id}:\")\n",
    "print(response.text.strip())"
   ]
  }
 ],
 "metadata": {
  "kernelspec": {
   "display_name": "Python 3",
   "language": "python",
   "name": "python3"
  },
  "language_info": {
   "codemirror_mode": {
    "name": "ipython",
    "version": 3
   },
   "file_extension": ".py",
   "mimetype": "text/x-python",
   "name": "python",
   "nbconvert_exporter": "python",
   "pygments_lexer": "ipython3",
   "version": "3.13.2"
  }
 },
 "nbformat": 4,
 "nbformat_minor": 5
}
