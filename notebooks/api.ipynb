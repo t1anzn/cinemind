{
 "cells": [
  {
   "cell_type": "code",
   "execution_count": 3,
   "metadata": {},
   "outputs": [
    {
     "name": "stdout",
     "output_type": "stream",
     "text": [
      "Requirement already satisfied: pandas in c:\\users\\timot\\appdata\\local\\programs\\python\\python313\\lib\\site-packages (2.2.3)\n",
      "Requirement already satisfied: numpy>=1.26.0 in c:\\users\\timot\\appdata\\local\\programs\\python\\python313\\lib\\site-packages (from pandas) (2.1.3)\n",
      "Requirement already satisfied: python-dateutil>=2.8.2 in c:\\users\\timot\\appdata\\roaming\\python\\python313\\site-packages (from pandas) (2.9.0.post0)\n",
      "Requirement already satisfied: pytz>=2020.1 in c:\\users\\timot\\appdata\\local\\programs\\python\\python313\\lib\\site-packages (from pandas) (2025.1)\n",
      "Requirement already satisfied: tzdata>=2022.7 in c:\\users\\timot\\appdata\\local\\programs\\python\\python313\\lib\\site-packages (from pandas) (2025.1)\n",
      "Requirement already satisfied: six>=1.5 in c:\\users\\timot\\appdata\\roaming\\python\\python313\\site-packages (from python-dateutil>=2.8.2->pandas) (1.17.0)\n",
      "Note: you may need to restart the kernel to use updated packages.\n",
      "Requirement already satisfied: sqlalchemy in c:\\users\\timot\\appdata\\local\\programs\\python\\python313\\lib\\site-packages (2.0.39)\n",
      "Requirement already satisfied: greenlet!=0.4.17 in c:\\users\\timot\\appdata\\local\\programs\\python\\python313\\lib\\site-packages (from sqlalchemy) (3.1.1)\n",
      "Requirement already satisfied: typing-extensions>=4.6.0 in c:\\users\\timot\\appdata\\local\\programs\\python\\python313\\lib\\site-packages (from sqlalchemy) (4.12.2)\n",
      "Note: you may need to restart the kernel to use updated packages.\n",
      "Requirement already satisfied: pandasql in c:\\users\\timot\\appdata\\local\\programs\\python\\python313\\lib\\site-packages (0.7.3)\n",
      "Requirement already satisfied: numpy in c:\\users\\timot\\appdata\\local\\programs\\python\\python313\\lib\\site-packages (from pandasql) (2.1.3)\n",
      "Requirement already satisfied: pandas in c:\\users\\timot\\appdata\\local\\programs\\python\\python313\\lib\\site-packages (from pandasql) (2.2.3)\n",
      "Requirement already satisfied: sqlalchemy in c:\\users\\timot\\appdata\\local\\programs\\python\\python313\\lib\\site-packages (from pandasql) (2.0.39)\n",
      "Requirement already satisfied: python-dateutil>=2.8.2 in c:\\users\\timot\\appdata\\roaming\\python\\python313\\site-packages (from pandas->pandasql) (2.9.0.post0)\n",
      "Requirement already satisfied: pytz>=2020.1 in c:\\users\\timot\\appdata\\local\\programs\\python\\python313\\lib\\site-packages (from pandas->pandasql) (2025.1)\n",
      "Requirement already satisfied: tzdata>=2022.7 in c:\\users\\timot\\appdata\\local\\programs\\python\\python313\\lib\\site-packages (from pandas->pandasql) (2025.1)\n",
      "Requirement already satisfied: greenlet!=0.4.17 in c:\\users\\timot\\appdata\\local\\programs\\python\\python313\\lib\\site-packages (from sqlalchemy->pandasql) (3.1.1)\n",
      "Requirement already satisfied: typing-extensions>=4.6.0 in c:\\users\\timot\\appdata\\local\\programs\\python\\python313\\lib\\site-packages (from sqlalchemy->pandasql) (4.12.2)\n",
      "Requirement already satisfied: six>=1.5 in c:\\users\\timot\\appdata\\roaming\\python\\python313\\site-packages (from python-dateutil>=2.8.2->pandas->pandasql) (1.17.0)\n",
      "Note: you may need to restart the kernel to use updated packages.\n",
      "Collecting beautifulsoup4\n",
      "  Using cached beautifulsoup4-4.13.3-py3-none-any.whl.metadata (3.8 kB)\n",
      "Collecting soupsieve>1.2 (from beautifulsoup4)\n",
      "  Using cached soupsieve-2.6-py3-none-any.whl.metadata (4.6 kB)\n",
      "Requirement already satisfied: typing-extensions>=4.0.0 in c:\\users\\timot\\appdata\\local\\programs\\python\\python313\\lib\\site-packages (from beautifulsoup4) (4.12.2)\n",
      "Using cached beautifulsoup4-4.13.3-py3-none-any.whl (186 kB)\n",
      "Using cached soupsieve-2.6-py3-none-any.whl (36 kB)\n",
      "Installing collected packages: soupsieve, beautifulsoup4\n",
      "Successfully installed beautifulsoup4-4.13.3 soupsieve-2.6\n",
      "Note: you may need to restart the kernel to use updated packages.\n"
     ]
    }
   ],
   "source": [
    "# pandas for building and processing DataFrames\n",
    "%pip install pandas\n",
    "\n",
    "# sqlalchemy: database toolkit for Python (ORM)\n",
    "%pip install sqlalchemy\n",
    "\n",
    "# pandasql: sql-type queries on pandas DataFrames\n",
    "%pip install pandasql\n",
    "\n",
    "%pip install beautifulsoup4\n"
   ]
  },
  {
   "cell_type": "code",
   "execution_count": null,
   "metadata": {},
   "outputs": [
    {
     "name": "stdout",
     "output_type": "stream",
     "text": [
      "{'Title': 'Guardians of the Galaxy Vol. 2', 'Year': '2017', 'Rated': 'PG-13', 'Released': '05 May 2017', 'Runtime': '136 min', 'Genre': 'Action, Adventure, Comedy', 'Director': 'James Gunn', 'Writer': 'James Gunn, Dan Abnett, Andy Lanning', 'Actors': 'Chris Pratt, Zoe Saldaña, Dave Bautista', 'Plot': \"The Guardians struggle to keep together as a team while dealing with their personal family issues, notably Star-Lord's encounter with his father, the ambitious celestial being Ego.\", 'Language': 'English', 'Country': 'United States', 'Awards': 'Nominated for 1 Oscar. 15 wins & 61 nominations total', 'Poster': 'https://m.media-amazon.com/images/M/MV5BNWE5MGI3MDctMmU5Ni00YzI2LWEzMTQtZGIyZDA5MzQzNDBhXkEyXkFqcGc@._V1_SX300.jpg', 'Ratings': [{'Source': 'Internet Movie Database', 'Value': '7.6/10'}, {'Source': 'Rotten Tomatoes', 'Value': '85%'}, {'Source': 'Metacritic', 'Value': '67/100'}], 'Metascore': '67', 'imdbRating': '7.6', 'imdbVotes': '788,570', 'imdbID': 'tt3896198', 'Type': 'movie', 'DVD': 'N/A', 'BoxOffice': '$389,813,101', 'Production': 'N/A', 'Website': 'N/A', 'Response': 'True'}\n"
     ]
    }
   ],
   "source": [
    "# API example\n",
    "\n",
    "import requests\n",
    "from json import dumps\n",
    "\n",
    "# API key for the Open Movie Database (OMDb)\n",
    "api_key = \"dcbd4e7e\"\n",
    "movie_id = \"tt3896198\"  # Example IMDb ID\n",
    "url = f\"http://www.omdbapi.com/?i={movie_id}&apikey={api_key}\"\n",
    "\n",
    "response = requests.get(url)\n",
    "movie_data = response.json()\n",
    "\n",
    "# Print the data to inspect the fields\n",
    "print(movie_data)\n",
    "\n"
   ]
  },
  {
   "cell_type": "code",
   "execution_count": 1,
   "metadata": {},
   "outputs": [],
   "source": [
    "import sqlite3\n",
    "\n",
    "conn = sqlite3.connect(\"movies.db\")\n",
    "cursor = conn.cursor()\n",
    "\n",
    "# Drop the Movies table (this will permanently delete all data in the table)\n",
    "cursor.execute(\"DROP TABLE IF EXISTS Movies\")\n",
    "\n",
    "conn.commit()\n",
    "conn.close()"
   ]
  }
 ],
 "metadata": {
  "kernelspec": {
   "display_name": "Python 3",
   "language": "python",
   "name": "python3"
  },
  "language_info": {
   "codemirror_mode": {
    "name": "ipython",
    "version": 3
   },
   "file_extension": ".py",
   "mimetype": "text/x-python",
   "name": "python",
   "nbconvert_exporter": "python",
   "pygments_lexer": "ipython3",
   "version": "3.13.2"
  }
 },
 "nbformat": 4,
 "nbformat_minor": 2
}
